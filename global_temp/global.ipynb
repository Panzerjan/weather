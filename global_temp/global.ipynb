{
 "cells": [
  {
   "cell_type": "code",
   "execution_count": 13,
   "metadata": {},
   "outputs": [
    {
     "name": "stdout",
     "output_type": "stream",
     "text": [
      "       0   1      2      3      4      5      6      7      8      9   ...  \\\n",
      "0    Year  Mo  Globe   Land  Ocean     NH   Land  Ocean     SH   Land  ...   \n",
      "1    1978  12  -0.48  -0.51  -0.47  -0.44  -0.46  -0.42  -0.52  -0.62  ...   \n",
      "2    1979   1  -0.47  -0.64  -0.41  -0.64  -0.86  -0.50  -0.31  -0.13  ...   \n",
      "3    1979   2  -0.43  -0.56  -0.39  -0.47  -0.57  -0.41  -0.39  -0.53  ...   \n",
      "4    1979   3  -0.38  -0.51  -0.33  -0.46  -0.51  -0.44  -0.30  -0.53  ...   \n",
      "..    ...  ..    ...    ...    ...    ...    ...    ...    ...    ...  ...   \n",
      "519  2022   2  -0.00  -0.04   0.01   0.01  -0.05   0.04  -0.02  -0.02  ...   \n",
      "520  2022   3   0.15   0.28   0.10   0.27   0.34   0.23   0.02   0.15  ...   \n",
      "521  2022   4   0.26   0.37   0.22   0.35   0.49   0.25   0.18   0.09  ...   \n",
      "522  2022   5   0.17   0.30   0.12   0.24   0.39   0.15   0.10   0.11  ...   \n",
      "523  2022   6   0.06   0.32  -0.04   0.07   0.33  -0.09   0.04   0.27  ...   \n",
      "\n",
      "        19     20     21     22     23     24     25     26     27     28  \n",
      "0    Ocean  NoPol   Land  Ocean  SoPol   Land  Ocean  USA48  USA49   AUST  \n",
      "1    -0.45  -0.39  -0.68  -0.06  -0.45  -0.38  -0.49  -1.29  -1.15  -1.29  \n",
      "2    -0.29  -0.46  -0.95   0.10  -0.16  -0.15  -0.16  -3.22  -2.42   0.92  \n",
      "3    -0.36  -2.01  -2.30  -1.66  -0.80  -1.25  -0.58  -1.76  -1.84  -0.30  \n",
      "4    -0.21  -0.56  -0.47  -0.65  -0.52  -1.25  -0.18  -0.70  -0.39   0.23  \n",
      "..     ...    ...    ...    ...    ...    ...    ...    ...    ...    ...  \n",
      "519   0.13  -0.30   0.19  -0.87   0.37   0.73   0.19  -0.05   0.08  -0.50  \n",
      "520   0.06   0.74   0.31   1.23   0.03   0.81  -0.35   0.22   0.41   0.02  \n",
      "521   0.35   0.45   0.26   0.66   0.07  -0.09   0.15  -0.26  -0.30   0.60  \n",
      "522   0.15   0.23   0.32   0.12   0.24   0.50   0.12   0.59   0.46   0.19  \n",
      "523   0.19   0.33   0.35   0.29   0.80   1.72   0.36   0.46   0.43   0.11  \n",
      "\n",
      "[524 rows x 29 columns]\n"
     ]
    }
   ],
   "source": [
    "import pandas as pd\n",
    "\n",
    "\n",
    "fileName = \"C:/JEJ/Repo/weather/global_temp/file/global.csv\"\n",
    "\n",
    "data = pd.read_csv(fileName, sep=\"\\s+\", header=None)\n",
    "# new data frame with split value columns \n",
    "\n",
    "print(data)\n",
    "\n",
    "\n"
   ]
  }
 ],
 "metadata": {
  "kernelspec": {
   "display_name": "Python 3.10.3 64-bit",
   "language": "python",
   "name": "python3"
  },
  "language_info": {
   "codemirror_mode": {
    "name": "ipython",
    "version": 3
   },
   "file_extension": ".py",
   "mimetype": "text/x-python",
   "name": "python",
   "nbconvert_exporter": "python",
   "pygments_lexer": "ipython3",
   "version": "3.10.3"
  },
  "orig_nbformat": 4,
  "vscode": {
   "interpreter": {
    "hash": "04eecfb2ca41d83068ef6c1a84610af351f2da7dde2c419d2b3f63ea51f7c44e"
   }
  }
 },
 "nbformat": 4,
 "nbformat_minor": 2
}
