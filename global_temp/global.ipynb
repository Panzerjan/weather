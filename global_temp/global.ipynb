{
 "cells": [
  {
   "cell_type": "code",
   "execution_count": 4,
   "metadata": {},
   "outputs": [
    {
     "name": "stdout",
     "output_type": "stream",
     "text": [
      "                                                     0\n",
      "0    1978 12 -0.48 -0.51 -0.47 -0.44 -0.46 -0.42 -0...\n",
      "1    1979  1 -0.47 -0.64 -0.41 -0.64 -0.86 -0.50 -0...\n",
      "2    1979  2 -0.43 -0.56 -0.39 -0.47 -0.57 -0.41 -0...\n",
      "3    1979  3 -0.38 -0.51 -0.33 -0.46 -0.51 -0.44 -0...\n",
      "4    1979  4 -0.40 -0.57 -0.34 -0.47 -0.62 -0.37 -0...\n",
      "..                                                 ...\n",
      "518  2022  2 -0.00 -0.04  0.01  0.01 -0.05  0.04 -0...\n",
      "519  2022  3  0.15  0.28  0.10  0.27  0.34  0.23  0...\n",
      "520  2022  4  0.26  0.37  0.22  0.35  0.49  0.25  0...\n",
      "521  2022  5  0.17  0.30  0.12  0.24  0.39  0.15  0...\n",
      "522  2022  6  0.06  0.32 -0.04  0.07  0.33 -0.09  0...\n",
      "\n",
      "[523 rows x 1 columns]\n"
     ]
    },
    {
     "ename": "ValueError",
     "evalue": "Length mismatch: Expected axis has 1 elements, new values have 30 elements",
     "output_type": "error",
     "traceback": [
      "\u001b[1;31m---------------------------------------------------------------------------\u001b[0m",
      "\u001b[1;31mValueError\u001b[0m                                Traceback (most recent call last)",
      "\u001b[1;32m<ipython-input-4-0478eb2f28e9>\u001b[0m in \u001b[0;36m<module>\u001b[1;34m\u001b[0m\n\u001b[0;32m      8\u001b[0m \u001b[0mprint\u001b[0m\u001b[1;33m(\u001b[0m\u001b[0mdata\u001b[0m\u001b[1;33m)\u001b[0m\u001b[1;33m\u001b[0m\u001b[1;33m\u001b[0m\u001b[0m\n\u001b[0;32m      9\u001b[0m \u001b[1;33m\u001b[0m\u001b[0m\n\u001b[1;32m---> 10\u001b[1;33m data.columns =['index','year', 'month','Globe', 'Land', 'Ocean', 'NH', 'NH_Land', 'NH_ocean', 'SH', 'SH_Land', 'SH_ocean', 'Trpcs ', 'Trpcs _Land', 'Trpcs _ocean'\n\u001b[0m\u001b[0;32m     11\u001b[0m                \u001b[1;33m,\u001b[0m\u001b[1;34m'NoExt'\u001b[0m\u001b[1;33m,\u001b[0m \u001b[1;34m'NoExt_Land'\u001b[0m\u001b[1;33m,\u001b[0m \u001b[1;34m'NoExt_ocean'\u001b[0m\u001b[1;33m,\u001b[0m\u001b[1;34m'SoExt'\u001b[0m\u001b[1;33m,\u001b[0m \u001b[1;34m'SoExt_Land'\u001b[0m\u001b[1;33m,\u001b[0m \u001b[1;34m'SoExt_ocean'\u001b[0m\u001b[1;33m,\u001b[0m\u001b[1;34m'NoPol'\u001b[0m\u001b[1;33m,\u001b[0m \u001b[1;34m'NoPol_Land'\u001b[0m\u001b[1;33m,\u001b[0m \u001b[1;34m'NoPol_ocean'\u001b[0m\u001b[1;33m,\u001b[0m\u001b[1;34m'SoPol'\u001b[0m\u001b[1;33m,\u001b[0m \u001b[1;34m'SoPol_Land'\u001b[0m\u001b[1;33m,\u001b[0m \u001b[1;34m'SoPol_ocean'\u001b[0m\u001b[1;33m\u001b[0m\u001b[1;33m\u001b[0m\u001b[0m\n\u001b[0;32m     12\u001b[0m                ,'USA48', 'USA49 ', 'AUST']\n",
      "\u001b[1;32mc:\\Users\\jan.johannessen\\AppData\\Local\\Continuum\\anaconda3\\lib\\site-packages\\pandas\\core\\generic.py\u001b[0m in \u001b[0;36m__setattr__\u001b[1;34m(self, name, value)\u001b[0m\n\u001b[0;32m   5473\u001b[0m         \u001b[1;32mtry\u001b[0m\u001b[1;33m:\u001b[0m\u001b[1;33m\u001b[0m\u001b[1;33m\u001b[0m\u001b[0m\n\u001b[0;32m   5474\u001b[0m             \u001b[0mobject\u001b[0m\u001b[1;33m.\u001b[0m\u001b[0m__getattribute__\u001b[0m\u001b[1;33m(\u001b[0m\u001b[0mself\u001b[0m\u001b[1;33m,\u001b[0m \u001b[0mname\u001b[0m\u001b[1;33m)\u001b[0m\u001b[1;33m\u001b[0m\u001b[1;33m\u001b[0m\u001b[0m\n\u001b[1;32m-> 5475\u001b[1;33m             \u001b[1;32mreturn\u001b[0m \u001b[0mobject\u001b[0m\u001b[1;33m.\u001b[0m\u001b[0m__setattr__\u001b[0m\u001b[1;33m(\u001b[0m\u001b[0mself\u001b[0m\u001b[1;33m,\u001b[0m \u001b[0mname\u001b[0m\u001b[1;33m,\u001b[0m \u001b[0mvalue\u001b[0m\u001b[1;33m)\u001b[0m\u001b[1;33m\u001b[0m\u001b[1;33m\u001b[0m\u001b[0m\n\u001b[0m\u001b[0;32m   5476\u001b[0m         \u001b[1;32mexcept\u001b[0m \u001b[0mAttributeError\u001b[0m\u001b[1;33m:\u001b[0m\u001b[1;33m\u001b[0m\u001b[1;33m\u001b[0m\u001b[0m\n\u001b[0;32m   5477\u001b[0m             \u001b[1;32mpass\u001b[0m\u001b[1;33m\u001b[0m\u001b[1;33m\u001b[0m\u001b[0m\n",
      "\u001b[1;32mpandas\\_libs\\properties.pyx\u001b[0m in \u001b[0;36mpandas._libs.properties.AxisProperty.__set__\u001b[1;34m()\u001b[0m\n",
      "\u001b[1;32mc:\\Users\\jan.johannessen\\AppData\\Local\\Continuum\\anaconda3\\lib\\site-packages\\pandas\\core\\generic.py\u001b[0m in \u001b[0;36m_set_axis\u001b[1;34m(self, axis, labels)\u001b[0m\n\u001b[0;32m    667\u001b[0m     \u001b[1;32mdef\u001b[0m \u001b[0m_set_axis\u001b[0m\u001b[1;33m(\u001b[0m\u001b[0mself\u001b[0m\u001b[1;33m,\u001b[0m \u001b[0maxis\u001b[0m\u001b[1;33m:\u001b[0m \u001b[0mint\u001b[0m\u001b[1;33m,\u001b[0m \u001b[0mlabels\u001b[0m\u001b[1;33m:\u001b[0m \u001b[0mIndex\u001b[0m\u001b[1;33m)\u001b[0m \u001b[1;33m->\u001b[0m \u001b[1;32mNone\u001b[0m\u001b[1;33m:\u001b[0m\u001b[1;33m\u001b[0m\u001b[1;33m\u001b[0m\u001b[0m\n\u001b[0;32m    668\u001b[0m         \u001b[0mlabels\u001b[0m \u001b[1;33m=\u001b[0m \u001b[0mensure_index\u001b[0m\u001b[1;33m(\u001b[0m\u001b[0mlabels\u001b[0m\u001b[1;33m)\u001b[0m\u001b[1;33m\u001b[0m\u001b[1;33m\u001b[0m\u001b[0m\n\u001b[1;32m--> 669\u001b[1;33m         \u001b[0mself\u001b[0m\u001b[1;33m.\u001b[0m\u001b[0m_mgr\u001b[0m\u001b[1;33m.\u001b[0m\u001b[0mset_axis\u001b[0m\u001b[1;33m(\u001b[0m\u001b[0maxis\u001b[0m\u001b[1;33m,\u001b[0m \u001b[0mlabels\u001b[0m\u001b[1;33m)\u001b[0m\u001b[1;33m\u001b[0m\u001b[1;33m\u001b[0m\u001b[0m\n\u001b[0m\u001b[0;32m    670\u001b[0m         \u001b[0mself\u001b[0m\u001b[1;33m.\u001b[0m\u001b[0m_clear_item_cache\u001b[0m\u001b[1;33m(\u001b[0m\u001b[1;33m)\u001b[0m\u001b[1;33m\u001b[0m\u001b[1;33m\u001b[0m\u001b[0m\n\u001b[0;32m    671\u001b[0m \u001b[1;33m\u001b[0m\u001b[0m\n",
      "\u001b[1;32mc:\\Users\\jan.johannessen\\AppData\\Local\\Continuum\\anaconda3\\lib\\site-packages\\pandas\\core\\internals\\managers.py\u001b[0m in \u001b[0;36mset_axis\u001b[1;34m(self, axis, new_labels)\u001b[0m\n\u001b[0;32m    218\u001b[0m \u001b[1;33m\u001b[0m\u001b[0m\n\u001b[0;32m    219\u001b[0m         \u001b[1;32mif\u001b[0m \u001b[0mnew_len\u001b[0m \u001b[1;33m!=\u001b[0m \u001b[0mold_len\u001b[0m\u001b[1;33m:\u001b[0m\u001b[1;33m\u001b[0m\u001b[1;33m\u001b[0m\u001b[0m\n\u001b[1;32m--> 220\u001b[1;33m             raise ValueError(\n\u001b[0m\u001b[0;32m    221\u001b[0m                 \u001b[1;34mf\"Length mismatch: Expected axis has {old_len} elements, new \"\u001b[0m\u001b[1;33m\u001b[0m\u001b[1;33m\u001b[0m\u001b[0m\n\u001b[0;32m    222\u001b[0m                 \u001b[1;34mf\"values have {new_len} elements\"\u001b[0m\u001b[1;33m\u001b[0m\u001b[1;33m\u001b[0m\u001b[0m\n",
      "\u001b[1;31mValueError\u001b[0m: Length mismatch: Expected axis has 1 elements, new values have 30 elements"
     ]
    }
   ],
   "source": [
    "import pandas as pd\n",
    "\n",
    "\n",
    "fileName = \"C:/JEJ/Repo/weather/global_temp/file/global_temp.txt\"\n",
    "\n",
    "data = pd.read_csv(fileName, sep=\"\\t\", header=None)\n",
    "\n",
    "print(data)\n",
    "\n",
    "data.columns =['index','year', 'month','Globe', 'Land', 'Ocean', 'NH', 'NH_Land', 'NH_ocean', 'SH', 'SH_Land', 'SH_ocean', 'Trpcs ', 'Trpcs _Land', 'Trpcs _ocean'\n",
    "               ,'NoExt', 'NoExt_Land', 'NoExt_ocean','SoExt', 'SoExt_Land', 'SoExt_ocean','NoPol', 'NoPol_Land', 'NoPol_ocean','SoPol', 'SoPol_Land', 'SoPol_ocean'\n",
    "               ,'USA48', 'USA49 ', 'AUST']\n",
    "data = data.drop(columns='index')\n"
   ]
  }
 ],
 "metadata": {
  "kernelspec": {
   "display_name": "Python 3.8.13 ('base')",
   "language": "python",
   "name": "python3"
  },
  "language_info": {
   "codemirror_mode": {
    "name": "ipython",
    "version": 3
   },
   "file_extension": ".py",
   "mimetype": "text/x-python",
   "name": "python",
   "nbconvert_exporter": "python",
   "pygments_lexer": "ipython3",
   "version": "3.8.13"
  },
  "orig_nbformat": 4,
  "vscode": {
   "interpreter": {
    "hash": "1a15dac3f9304ac6c4f4fbadb1c7e982156dfe77acebd280c7c34db80a9575f2"
   }
  }
 },
 "nbformat": 4,
 "nbformat_minor": 2
}
