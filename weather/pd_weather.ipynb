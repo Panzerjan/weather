{
 "cells": [
  {
   "cell_type": "code",
   "execution_count": 3,
   "metadata": {},
   "outputs": [
    {
     "name": "stdout",
     "output_type": "stream",
     "text": [
      "     temp  windspeed  airquality Location    WeatherType  \\\n",
      "0   13.79       5.14           1  Sandnes         Clouds   \n",
      "1   13.79       5.14           1  Sandnes         Clouds   \n",
      "2   13.71       5.66           1  Sandnes         Clouds   \n",
      "3   13.45       5.14           1  Sandnes         Clouds   \n",
      "4   13.84       5.14           1  Sandnes         Clouds   \n",
      "5   16.96       6.17           1  Sandnes         Clouds   \n",
      "6   17.07       6.17           1  Sandnes         Clouds   \n",
      "7   15.17       7.72           1  Sandnes         Clouds   \n",
      "8   15.17       7.72           1  Sandnes         Clouds   \n",
      "9   15.17       7.72           1  Sandnes     few clouds   \n",
      "10  11.10       7.20           1  Sandnes  broken clouds   \n",
      "11  13.06       4.12           1  Sandnes     light rain   \n",
      "\n",
      "                         Time       Dates  year month day  \n",
      "0  2022-07-31 12:44:08.660357  2022-07-31  2022    07  31  \n",
      "1  2022-07-31 12:44:28.096249  2022-07-31  2022    07  31  \n",
      "2  2022-07-31 13:10:22.949260  2022-07-31  2022    07  31  \n",
      "3  2022-07-31 14:00:00.475381  2022-07-31  2022    07  31  \n",
      "4  2022-07-31 14:27:05.436656  2022-07-31  2022    07  31  \n",
      "5  2022-08-03 20:04:00.529568  2022-08-03  2022    08  03  \n",
      "6  2022-08-03 20:47:34.928335  2022-08-03  2022    08  03  \n",
      "7  2022-08-05 18:32:39.870086  2022-08-05  2022    08  05  \n",
      "8  2022-08-05 18:36:09.758015  2022-08-05  2022    08  05  \n",
      "9  2022-08-05 18:39:56.282232  2022-08-05  2022    08  05  \n",
      "10 2022-08-06 08:21:49.826273  2022-08-06  2022    08  06  \n",
      "11 2022-08-07 09:58:25.566924  2022-08-07  2022    08  07  \n"
     ]
    }
   ],
   "source": [
    "import pandas as pd\n",
    "from datetime import datetime as d\n",
    "# Var for filename\n",
    "fileName = \"C:/JEJ/Repo/Python//weather/files/sandnes.csv\"\n",
    "\n",
    "# read and add columns name\n",
    "data = pd.read_csv(fileName, sep=\",\", header=None)\n",
    "data.columns =['index', 'temp','windspeed', 'airquality', 'Location', 'WeatherType', 'Time']\n",
    "data = data.drop(columns='index')\n",
    "data['Location'] = data['Location'].astype('string')\n",
    "data['WeatherType'] = data['WeatherType'].astype('string')\n",
    "data['Time'] = pd.to_datetime(data['Time'])\n",
    "data['Dates'] = pd.to_datetime(data['Time']).dt.date.astype('string')\n",
    "data[[\"year\", \"month\", \"day\"]] = data[\"Dates\"].str.split(\"-\", expand = True)\n"
   ]
  },
  {
   "cell_type": "code",
   "execution_count": 5,
   "metadata": {},
   "outputs": [
    {
     "name": "stdout",
     "output_type": "stream",
     "text": [
      "Avarage temp : 14.814285714285715\n",
      "Avarage wind : 6.688571428571429\n"
     ]
    }
   ],
   "source": [
    "val = data.mean(numeric_only=True)\n",
    "avg_year = data.loc[data['month'] == '08', 'temp'].mean()\n",
    "avg_wind = data.loc[data['month'] == '08', 'windspeed'].mean()\n",
    "print(f'Avarage temp : {avg_year}')\n",
    "print(f'Avarage wind : {avg_wind}')"
   ]
  }
 ],
 "metadata": {
  "kernelspec": {
   "display_name": "Python 3.8.13 ('base')",
   "language": "python",
   "name": "python3"
  },
  "language_info": {
   "codemirror_mode": {
    "name": "ipython",
    "version": 3
   },
   "file_extension": ".py",
   "mimetype": "text/x-python",
   "name": "python",
   "nbconvert_exporter": "python",
   "pygments_lexer": "ipython3",
   "version": "3.8.13"
  },
  "orig_nbformat": 4,
  "vscode": {
   "interpreter": {
    "hash": "1a15dac3f9304ac6c4f4fbadb1c7e982156dfe77acebd280c7c34db80a9575f2"
   }
  }
 },
 "nbformat": 4,
 "nbformat_minor": 2
}
