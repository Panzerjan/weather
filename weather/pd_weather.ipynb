{
 "cells": [
  {
   "cell_type": "code",
   "execution_count": 1,
   "metadata": {},
   "outputs": [],
   "source": [
    "import pandas as pd\n",
    "from datetime import datetime as d\n",
    "# Var for filename\n",
    "fileName = \"C:/JEJ/Repo/weather/weather/files/sandnes.csv\"\n",
    "\n",
    "# read and add columns name\n",
    "data = pd.read_csv(fileName, sep=\",\", header=None)\n",
    "data.columns =['index', 'temp','windspeed', 'airquality', 'Location', 'WeatherType', 'Time']\n",
    "data = data.drop(columns='index')\n",
    "data['Location'] = data['Location'].astype('string')\n",
    "data['WeatherType'] = data['WeatherType'].astype('string')\n",
    "data['Time'] = pd.to_datetime(data['Time'])\n",
    "data['Dates'] = pd.to_datetime(data['Time']).dt.date.astype('string')\n",
    "data[[\"year\", \"month\", \"day\"]] = data[\"Dates\"].str.split(\"-\", expand = True)\n"
   ]
  },
  {
   "cell_type": "code",
   "execution_count": 2,
   "metadata": {},
   "outputs": [
    {
     "name": "stdout",
     "output_type": "stream",
     "text": [
      "Avarage temp : 14.464444444444446\n",
      "Avarage wind : 6.46\n"
     ]
    }
   ],
   "source": [
    "val = data.mean(numeric_only=True)\n",
    "avg_year = data.loc[data['month'] == '08', 'temp'].mean()\n",
    "avg_wind = data.loc[data['month'] == '08', 'windspeed'].mean()\n",
    "print(f'Avarage temp : {avg_year}')\n",
    "print(f'Avarage wind : {avg_wind}')"
   ]
  }
 ],
 "metadata": {
  "kernelspec": {
   "display_name": "Python 3.8.13 ('base')",
   "language": "python",
   "name": "python3"
  },
  "language_info": {
   "codemirror_mode": {
    "name": "ipython",
    "version": 3
   },
   "file_extension": ".py",
   "mimetype": "text/x-python",
   "name": "python",
   "nbconvert_exporter": "python",
   "pygments_lexer": "ipython3",
   "version": "3.8.13"
  },
  "orig_nbformat": 4,
  "vscode": {
   "interpreter": {
    "hash": "1a15dac3f9304ac6c4f4fbadb1c7e982156dfe77acebd280c7c34db80a9575f2"
   }
  }
 },
 "nbformat": 4,
 "nbformat_minor": 2
}
